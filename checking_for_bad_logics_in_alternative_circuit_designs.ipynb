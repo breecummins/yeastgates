{
 "cells": [
  {
   "cell_type": "code",
   "execution_count": 1,
   "metadata": {},
   "outputs": [],
   "source": [
    "import DSGRN"
   ]
  },
  {
   "cell_type": "code",
   "execution_count": 2,
   "metadata": {},
   "outputs": [],
   "source": [
    "def is_FP(annotation):\n",
    "    return annotation.startswith(\"FP\")\n",
    "\n",
    "def is_FP_match(state, annotation):\n",
    "    digits = [int(s) for s in annotation.replace(\",\", \"\").split() if s.isdigit()]\n",
    "    return all(digits[k] >= state[k][0] and digits[k] <= state[k][1] for k in state)\n"
   ]
  },
  {
   "cell_type": "code",
   "execution_count": 3,
   "metadata": {},
   "outputs": [
    {
     "name": "stdout",
     "output_type": "stream",
     "text": [
      "128\n"
     ]
    }
   ],
   "source": [
    "network = DSGRN.Network(\"AND_cyc_E.txt\")\n",
    "\n",
    "FPs = [{\"s1\" : [0,0], \"s2\" : [0,0], \"GFP\" : [1,1]},{\"s1\" : [0,0], \"s2\" : [0,0], \"GFP\" : [0,0]}]\n",
    "new_FPs = []\n",
    "for bounds in FPs:\n",
    "    new_bounds = {}\n",
    "    for name,bds in bounds.items():\n",
    "        new_bounds[network.index(name)]=bds\n",
    "    new_FPs.append(new_bounds)\n",
    "FPs = new_FPs\n",
    "\n",
    "pg = DSGRN.ParameterGraph(network)\n",
    "params = []\n",
    "for k in range(pg.size()):\n",
    "    param = pg.parameter(k)\n",
    "    dg = DSGRN.DomainGraph(param)\n",
    "    md = DSGRN.MorseDecomposition(dg.digraph())\n",
    "    mg = DSGRN.MorseGraph(dg, md)\n",
    "    stable_FP_annotations = [mg.annotation(i)[0] for i in range(0, mg.poset().size()) if is_FP(mg.annotation(i)[0]) and len(mg.poset().children(i)) == 0]\n",
    "    if all(any([is_FP_match(states,a) for a in stable_FP_annotations]) for states in FPs):\n",
    "        params.append(k)\n",
    "print(len(params))\n"
   ]
  },
  {
   "cell_type": "code",
   "execution_count": 4,
   "metadata": {},
   "outputs": [
    {
     "name": "stdout",
     "output_type": "stream",
     "text": [
      "Help on class MorseGraph in module DSGRN._dsgrn:\n",
      "\n",
      "class MorseGraph(pybind11_builtins.pybind11_object)\n",
      " |  Method resolution order:\n",
      " |      MorseGraph\n",
      " |      pybind11_builtins.pybind11_object\n",
      " |      builtins.object\n",
      " |  \n",
      " |  Methods defined here:\n",
      " |  \n",
      " |  SHA256(...)\n",
      " |      SHA256(self: DSGRN._dsgrn.MorseGraph) -> str\n",
      " |  \n",
      " |  __getstate__(...)\n",
      " |      __getstate__(self: DSGRN._dsgrn.MorseGraph) -> tuple\n",
      " |  \n",
      " |  __init__(...)\n",
      " |      __init__(*args, **kwargs)\n",
      " |      Overloaded function.\n",
      " |      \n",
      " |      1. __init__(self: DSGRN._dsgrn.MorseGraph) -> None\n",
      " |      \n",
      " |      2. __init__(self: DSGRN._dsgrn.MorseGraph, arg0: Poset, arg1: Dict[int, DSGRN._dsgrn.Annotation]) -> None\n",
      " |      \n",
      " |      3. __init__(self: DSGRN._dsgrn.MorseGraph, arg0: DSGRN._dsgrn.TypedObject, arg1: DSGRN._dsgrn.TypedObject) -> None\n",
      " |      \n",
      " |      4. __init__(self: DSGRN._dsgrn.MorseGraph, arg0: DSGRN._dsgrn.TypedObject) -> None\n",
      " |  \n",
      " |  __setstate__(...)\n",
      " |      __setstate__(self: DSGRN._dsgrn.MorseGraph, arg0: tuple) -> None\n",
      " |  \n",
      " |  __str__(...)\n",
      " |      __str__(self: DSGRN._dsgrn.MorseGraph) -> str\n",
      " |  \n",
      " |  annotation(...)\n",
      " |      annotation(self: DSGRN._dsgrn.MorseGraph, arg0: int) -> DSGRN._dsgrn.Annotation\n",
      " |  \n",
      " |  assign(...)\n",
      " |      assign(self: DSGRN._dsgrn.MorseGraph, arg0: DSGRN._dsgrn.TypedObject, arg1: DSGRN._dsgrn.TypedObject) -> None\n",
      " |  \n",
      " |  graphviz(...)\n",
      " |      graphviz(self: DSGRN._dsgrn.MorseGraph) -> str\n",
      " |  \n",
      " |  parse(...)\n",
      " |      parse(self: DSGRN._dsgrn.MorseGraph, arg0: str) -> DSGRN._dsgrn.MorseGraph\n",
      " |  \n",
      " |  poset(...)\n",
      " |      poset(self: DSGRN._dsgrn.MorseGraph) -> Poset\n",
      " |  \n",
      " |  stringify(...)\n",
      " |      stringify(self: DSGRN._dsgrn.MorseGraph) -> str\n",
      " |  \n",
      " |  ----------------------------------------------------------------------\n",
      " |  Methods inherited from pybind11_builtins.pybind11_object:\n",
      " |  \n",
      " |  __new__(*args, **kwargs) from pybind11_builtins.pybind11_type\n",
      " |      Create and return a new object.  See help(type) for accurate signature.\n",
      "\n"
     ]
    }
   ],
   "source": [
    "help(DSGRN.MorseGraph)"
   ]
  },
  {
   "cell_type": "code",
   "execution_count": 5,
   "metadata": {},
   "outputs": [
    {
     "name": "stdout",
     "output_type": "stream",
     "text": [
      "Help on class Network in module DSGRN._dsgrn:\n",
      "\n",
      "class Network(pybind11_builtins.pybind11_object)\n",
      " |  Method resolution order:\n",
      " |      Network\n",
      " |      pybind11_builtins.pybind11_object\n",
      " |      builtins.object\n",
      " |  \n",
      " |  Methods defined here:\n",
      " |  \n",
      " |  __getstate__(...)\n",
      " |      __getstate__(self: DSGRN._dsgrn.Network) -> tuple\n",
      " |  \n",
      " |  __init__(...)\n",
      " |      __init__(*args, **kwargs)\n",
      " |      Overloaded function.\n",
      " |      \n",
      " |      1. __init__(self: DSGRN._dsgrn.Network) -> None\n",
      " |      \n",
      " |      2. __init__(self: DSGRN._dsgrn.Network, arg0: str) -> None\n",
      " |  \n",
      " |  __setstate__(...)\n",
      " |      __setstate__(self: DSGRN._dsgrn.Network, arg0: tuple) -> None\n",
      " |  \n",
      " |  assign(...)\n",
      " |      assign(self: DSGRN._dsgrn.Network, arg0: str) -> None\n",
      " |  \n",
      " |  domains(...)\n",
      " |      domains(self: DSGRN._dsgrn.Network) -> List[int]\n",
      " |  \n",
      " |  essential(...)\n",
      " |      essential(self: DSGRN._dsgrn.Network, arg0: int) -> bool\n",
      " |  \n",
      " |  graphviz(...)\n",
      " |      graphviz(self: DSGRN._dsgrn.Network) -> str\n",
      " |  \n",
      " |  index(...)\n",
      " |      index(self: DSGRN._dsgrn.Network, arg0: str) -> int\n",
      " |  \n",
      " |  inputs(...)\n",
      " |      inputs(self: DSGRN._dsgrn.Network, arg0: int) -> List[int]\n",
      " |  \n",
      " |  interaction(...)\n",
      " |      interaction(self: DSGRN._dsgrn.Network, arg0: int, arg1: int) -> bool\n",
      " |  \n",
      " |  load(...)\n",
      " |      load(self: DSGRN._dsgrn.Network, arg0: str) -> None\n",
      " |  \n",
      " |  logic(...)\n",
      " |      logic(self: DSGRN._dsgrn.Network, arg0: int) -> List[List[int]]\n",
      " |  \n",
      " |  name(...)\n",
      " |      name(self: DSGRN._dsgrn.Network, arg0: int) -> str\n",
      " |  \n",
      " |  order(...)\n",
      " |      order(self: DSGRN._dsgrn.Network, arg0: int, arg1: int) -> int\n",
      " |  \n",
      " |  outputs(...)\n",
      " |      outputs(self: DSGRN._dsgrn.Network, arg0: int) -> List[int]\n",
      " |  \n",
      " |  size(...)\n",
      " |      size(self: DSGRN._dsgrn.Network) -> int\n",
      " |  \n",
      " |  specification(...)\n",
      " |      specification(self: DSGRN._dsgrn.Network) -> str\n",
      " |  \n",
      " |  ----------------------------------------------------------------------\n",
      " |  Methods inherited from pybind11_builtins.pybind11_object:\n",
      " |  \n",
      " |  __new__(*args, **kwargs) from pybind11_builtins.pybind11_type\n",
      " |      Create and return a new object.  See help(type) for accurate signature.\n",
      "\n"
     ]
    }
   ],
   "source": [
    "help(DSGRN.Network)"
   ]
  },
  {
   "cell_type": "code",
   "execution_count": 6,
   "metadata": {},
   "outputs": [
    {
     "name": "stdout",
     "output_type": "stream",
     "text": [
      "Help on class Database in module DSGRN.Query.Database:\n",
      "\n",
      "class Database(builtins.object)\n",
      " |  Methods defined here:\n",
      " |  \n",
      " |  DrawMorseGraph(self, morsegraphindex)\n",
      " |      Return an object which renders to a graphviz representation in Jupyter\n",
      " |  \n",
      " |  __call__(self, pi)\n",
      " |      Call self as a function.\n",
      " |  \n",
      " |  __del__(self)\n",
      " |      Commit and close upon destruction\n",
      " |  \n",
      " |  __init__(self, database_name)\n",
      " |      Initialize a DSGRN database object\n",
      " |  \n",
      " |  execute(self, expression, parameters=None)\n",
      " |      Perform an SQL query.\n",
      " |      Returns a \"cursor\" object (see python sqlite3 API for details)\n",
      " |  \n",
      " |  ----------------------------------------------------------------------\n",
      " |  Data descriptors defined here:\n",
      " |  \n",
      " |  __dict__\n",
      " |      dictionary for instance variables (if defined)\n",
      " |  \n",
      " |  __weakref__\n",
      " |      list of weak references to the object (if defined)\n",
      "\n"
     ]
    }
   ],
   "source": [
    "help(DSGRN.Database)"
   ]
  },
  {
   "cell_type": "code",
   "execution_count": 7,
   "metadata": {},
   "outputs": [
    {
     "ename": "NameError",
     "evalue": "name 'db' is not defined",
     "output_type": "error",
     "traceback": [
      "\u001b[0;31m---------------------------------------------------------------------------\u001b[0m",
      "\u001b[0;31mNameError\u001b[0m                                 Traceback (most recent call last)",
      "\u001b[0;32m<ipython-input-7-de9f058abb34>\u001b[0m in \u001b[0;36m<module>\u001b[0;34m()\u001b[0m\n\u001b[0;32m----> 1\u001b[0;31m \u001b[0mhelp\u001b[0m\u001b[0;34m(\u001b[0m\u001b[0mdb\u001b[0m\u001b[0;34m)\u001b[0m\u001b[0;34m\u001b[0m\u001b[0m\n\u001b[0m",
      "\u001b[0;31mNameError\u001b[0m: name 'db' is not defined"
     ]
    }
   ],
   "source": [
    "help(db)"
   ]
  },
  {
   "cell_type": "code",
   "execution_count": null,
   "metadata": {},
   "outputs": [],
   "source": []
  }
 ],
 "metadata": {
  "kernelspec": {
   "display_name": "Python 3",
   "language": "python",
   "name": "python3"
  },
  "language_info": {
   "codemirror_mode": {
    "name": "ipython",
    "version": 3
   },
   "file_extension": ".py",
   "mimetype": "text/x-python",
   "name": "python",
   "nbconvert_exporter": "python",
   "pygments_lexer": "ipython3",
   "version": "3.6.4"
  }
 },
 "nbformat": 4,
 "nbformat_minor": 2
}
