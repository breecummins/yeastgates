{
 "cells": [
  {
   "cell_type": "code",
   "execution_count": 1,
   "metadata": {},
   "outputs": [],
   "source": [
    "import DSGRN"
   ]
  },
  {
   "cell_type": "code",
   "execution_count": 2,
   "metadata": {},
   "outputs": [],
   "source": [
    "def is_FP(annotation):\n",
    "    return annotation.startswith(\"FP\")\n",
    "\n",
    "def is_FP_match(state, annotation):\n",
    "    digits = [int(s) for s in annotation.replace(\",\", \"\").split() if s.isdigit()]\n",
    "    return all(digits[k] >= state[k][0] and digits[k] <= state[k][1] for k in state)\n"
   ]
  },
  {
   "cell_type": "code",
   "execution_count": 3,
   "metadata": {},
   "outputs": [
    {
     "name": "stdout",
     "output_type": "stream",
     "text": [
      "128\n"
     ]
    }
   ],
   "source": [
    "network = DSGRN.Network(\"AND_cyc_E.txt\")\n",
    "\n",
    "FPs = [{\"s1\" : [0,0], \"s2\" : [0,0], \"GFP\" : [1,1]},{\"s1\" : [0,0], \"s2\" : [0,0], \"GFP\" : [0,0]}]\n",
    "new_FPs = []\n",
    "for bounds in FPs:\n",
    "    new_bounds = {}\n",
    "    for name,bds in bounds.items():\n",
    "        new_bounds[network.index(name)]=bds\n",
    "    new_FPs.append(new_bounds)\n",
    "FPs = new_FPs\n",
    "\n",
    "pg = DSGRN.ParameterGraph(network)\n",
    "params = []\n",
    "for k in range(pg.size()):\n",
    "    param = pg.parameter(k)\n",
    "    dg = DSGRN.DomainGraph(param)\n",
    "    md = DSGRN.MorseDecomposition(dg.digraph())\n",
    "    mg = DSGRN.MorseGraph(dg, md)\n",
    "    stable_FP_annotations = [mg.annotation(i)[0] for i in range(0, mg.poset().size()) if is_FP(mg.annotation(i)[0]) and len(mg.poset().children(i)) == 0]\n",
    "    if all(any([is_FP_match(states,a) for a in stable_FP_annotations]) for states in FPs):\n",
    "        params.append(k)\n",
    "print(len(params))\n"
   ]
  },
  {
   "cell_type": "code",
   "execution_count": null,
   "metadata": {},
   "outputs": [],
   "source": []
  },
  {
   "cell_type": "code",
   "execution_count": null,
   "metadata": {},
   "outputs": [],
   "source": []
  }
 ],
 "metadata": {
  "kernelspec": {
   "display_name": "Python 3",
   "language": "python",
   "name": "python3"
  },
  "language_info": {
   "codemirror_mode": {
    "name": "ipython",
    "version": 3
   },
   "file_extension": ".py",
   "mimetype": "text/x-python",
   "name": "python",
   "nbconvert_exporter": "python",
   "pygments_lexer": "ipython3",
   "version": "3.6.4"
  }
 },
 "nbformat": 4,
 "nbformat_minor": 2
}
